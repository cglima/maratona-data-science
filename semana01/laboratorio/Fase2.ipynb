{
  "cells": [
    {
      "cell_type": "markdown",
      "metadata": {
        "id": "CYNAmoj4zSXl",
        "colab_type": "text"
      },
      "source": [
        "Crie um algoritmo em Python que peça 2 números e imprima o maior deles."
      ]
    },
    {
      "cell_type": "code",
      "execution_count": null,
      "metadata": {},
      "outputs": [],
      "source": []
    },
    {
      "cell_type": "code",
      "metadata": {
        "id": "ViAfpy3GzPN-",
        "colab_type": "code",
        "colab": {}
      },
      "source": [
        "numero1 = int(input(\"Digite um número: \"))\n",
        "numero2 = int(input(\"Digite outro número\"))\n",
        "\n",
        "if (numero1 > numero2):\n",
        "    print(f\"{numero1} é maior que {numero2}\")\n",
        "else:\n",
        "    print(f\"{numero2} é maior que {numero1}\")"
      ],
      "execution_count": 3,
      "outputs": [
        {
          "output_type": "stream",
          "name": "stdout",
          "text": "1 é maior que 0\n"
        }
      ]
    },
    {
      "cell_type": "markdown",
      "metadata": {
        "id": "gdMis92izSmQ",
        "colab_type": "text"
      },
      "source": [
        "Crie um algoritmo em Python que peça um valor e mostre na tela se o valor é positivo ou negativo."
      ]
    },
    {
      "cell_type": "code",
      "execution_count": null,
      "metadata": {},
      "outputs": [],
      "source": []
    },
    {
      "cell_type": "code",
      "metadata": {
        "id": "BFpWkdCBz_zh",
        "colab_type": "code",
        "colab": {}
      },
      "source": [
        "numero = int(input(\"Digite um número: \"))\n",
        "if(numero >= 0):\n",
        "    print(f\"O número {numero} é positivo\")\n",
        "else:\n",
        "    print(f\"O numero {numero} é negativo\")"
      ],
      "execution_count": 7,
      "outputs": [
        {
          "output_type": "stream",
          "name": "stdout",
          "text": "O número 45 é positivo\n"
        }
      ]
    },
    {
      "cell_type": "markdown",
      "metadata": {
        "id": "E_0l_Vx6zSo2",
        "colab_type": "text"
      },
      "source": [
        "Crie um algoritmo em Python que verifique se uma letra digitada é vogal ou consoante."
      ]
    },
    {
      "cell_type": "code",
      "metadata": {
        "id": "KwJf7XZS0AZW",
        "colab_type": "code",
        "colab": {}
      },
      "source": [
        "#TODO CORRIGIR O CASO EM QUE UMA LETRA MAISCULA É INFORMADA\n",
        "letra = input(\"Digite uma letra: \")\n",
        "if (letra == \"a\" or letra == \"e\" or letra == \"i\" or letra == \"o\" or letra == \"u\"):\n",
        "    print(f\"A letra '{letra}' é uma vogal\")\n",
        "else:\n",
        "    print(f\"A letra '{letra}' é uma consoante\")\n"
      ],
      "execution_count": 15,
      "outputs": [
        {
          "output_type": "stream",
          "name": "stdout",
          "text": "A letra 'A' é uma consoante\n"
        }
      ]
    },
    {
      "cell_type": "markdown",
      "metadata": {
        "id": "1i4VCiiczSrL",
        "colab_type": "text"
      },
      "source": [
        "Faça um programa para a leitura de duas notas parciais de um aluno. O programa deve calcular a média alcançada por aluno e apresentar:\n",
        "* \"Aprovado\", se a média alcançada for maior ou igual a sete;\n",
        "* \"Reprovado\", se a média for menor do que sete;\n",
        "* \"Aprovado com Distinção\", se a média for igual a 10."
      ]
    },
    {
      "cell_type": "code",
      "metadata": {
        "id": "yoW67hjA0BHy",
        "colab_type": "code",
        "colab": {}
      },
      "source": [
        "nota1 = float(input(\"Informe a primeira nota do aluno: \"))\n",
        "nota2 = float(input(\"Informa a segunda nota do aluno: \"))\n",
        "\n",
        "media = (nota1 + nota2) / 2\n",
        "\n",
        "if(media >= 7 and media < 10):\n",
        "    print(\"APROVADO\")\n",
        "elif(media < 7):\n",
        "    print(\"REPROVADO\")\n",
        "else:\n",
        "    print(\"APROVADO COM DISTINÇÃO\")\n"
      ],
      "execution_count": 18,
      "outputs": [
        {
          "output_type": "stream",
          "name": "stdout",
          "text": "APROVADO COM DISTINÇÃO\n"
        }
      ]
    },
    {
      "cell_type": "markdown",
      "metadata": {
        "id": "4ep7kezvzStO",
        "colab_type": "text"
      },
      "source": [
        "Crie um algoritmo em Python que leia três números e mostre o maior deles."
      ]
    },
    {
      "cell_type": "code",
      "metadata": {
        "id": "6K6IHWdr0Blt",
        "colab_type": "code",
        "colab": {}
      },
      "source": [
        "lista = []\n",
        "numero1 = int(input(\"Digite um número: \"))\n",
        "lista.append([numero1])\n",
        "numero2 = int(input(\"Digite outro número? \"))\n",
        "lista.append([numero2])\n",
        "numero3 = int(input(\"Digite outro número pra acabar: \"))\n",
        "lista.append([numero3])\n",
        "\n",
        "print(max(lista))\n",
        "\n"
      ],
      "execution_count": 5,
      "outputs": [
        {
          "output_type": "stream",
          "name": "stdout",
          "text": "[45]\n"
        }
      ]
    },
    {
      "cell_type": "markdown",
      "metadata": {
        "id": "u6__NaXqzeYg",
        "colab_type": "text"
      },
      "source": [
        "Crie um algoritmo em Python que leia três números e mostre o maior e o menor deles."
      ]
    },
    {
      "cell_type": "code",
      "metadata": {
        "id": "mm2L7g3x0Cfx",
        "colab_type": "code",
        "colab": {}
      },
      "source": [
        "numero1 = int(input(\"Digite um número: \"))\n",
        "lista.append([numero1])\n",
        "numero2 = int(input(\"Digite outro número: \"))\n",
        "lista.append([numero2])\n",
        "numero3 = int(input(\"Digite outro número pra acabar: \"))\n",
        "lista.append([numero3])\n",
        "\n",
        "print(f\"A sequencia dos numeros digitados foi: '{numero1} , '{numero2} e '{numero3}' \")\n",
        "print(max(lista)) \n",
        "print(min(lista))\n",
        "#print(\"O maior numero da lista:\", max(numero for numero in lista))\n",
        "#print(\"O menor numero da lista:\", min(numero for numero in lista))\n"
      ],
      "execution_count": 6,
      "outputs": [
        {
          "output_type": "stream",
          "name": "stdout",
          "text": "A sequencia dos numeros digitados foi: '4 , '56 e '0' \n[56]\n[0]\nO menor numero da lista: [0]\n"
        }
      ]
    },
    {
      "cell_type": "markdown",
      "metadata": {
        "id": "lIlfG-ATzgOr",
        "colab_type": "text"
      },
      "source": [
        "Faça um programa que pergunte o preço de 5 produtos e informe qual produto você deve comprar, sabendo que a decisão é sempre pelo mais barato."
      ]
    },
    {
      "cell_type": "code",
      "metadata": {
        "id": "-y4pB6br0DD_",
        "colab_type": "code",
        "colab": {}
      },
      "source": [
        "#pergunte o preço de 5 produtos\n",
        "produtos = [\n",
        "    \"computador\", 0 ,\n",
        "    \"smartphone\", 0 ,\n",
        "    \"videogame\", 0 ,\n",
        "    \"cama\", 0 ,\n",
        "    \"miojo\", 0]\n",
        "\n",
        "for i in range(1,10,2):\n",
        "    preco_produto = float(input(f\"Qual o preço do {produtos[i-1]}? \"))\n",
        "    produtos[i] = preco_produto\n",
        "\n",
        "print(produtos)\n",
        "\n",
        "# escolha o mais barato\n",
        "posicao_menor = 1\n",
        "for posicao_atual in range(1,10,2):\n",
        "    if (produtos[posicao_atual] < produtos[posicao_menor]):\n",
        "        posicao_menor = posicao_atual\n",
        "\n",
        "print(f\"O produto mais barato é o {produtos[posicao_menor-1]} com o preço de R${produtos[posicao_menor]}\")\n"
      ],
      "execution_count": 6,
      "outputs": [
        {
          "output_type": "stream",
          "name": "stdout",
          "text": "O produto mais barato é o 1\n"
        }
      ]
    },
    {
      "cell_type": "markdown",
      "metadata": {
        "id": "Vj4OXsJQziu_",
        "colab_type": "text"
      },
      "source": [
        "Crie um algoritmo em Python que leia três números e mostre-os em ordem decrescente."
      ]
    },
    {
      "cell_type": "code",
      "metadata": {
        "id": "RmApGpg30D00",
        "colab_type": "code",
        "colab": {}
      },
      "source": [
        "#numeros = [1, 123, 34]\n",
        "numeros = [] \n",
        "\n",
        "for x in range(3):\n",
        "    numero = int(input(\"Informe um número: \"))\n",
        "    numeros.append(numero)\n",
        "\n",
        "numeros.sort(reverse = True)\n",
        "\n",
        "print(numeros)\n"
      ],
      "execution_count": 14,
      "outputs": [
        {
          "output_type": "stream",
          "name": "stdout",
          "text": "[9583, 654, 3]\n"
        }
      ]
    },
    {
      "cell_type": "markdown",
      "metadata": {
        "id": "e7id8Ewgzlow",
        "colab_type": "text"
      },
      "source": [
        "As Organizações Mendéz resolveram dar um aumento de salário aos seus colaboradores e lhe contraram para desenvolver o programa que calculará os reajustes em Python. Faça um programa que receba o salário de um colaborador e o reajuste segundo o seguinte critério, baseado no salário atual:\n",
        "\n",
        "* salários entre 680,00 e 800,00 : aumento de 15%<br>\n",
        "* salários entre 800,00 e 2500,00 : aumento de 10%<br>\n",
        "* salários de 2500,00 em diante : aumento de 5% após o aumento ser realizado.\n",
        "\n",
        "Informe na tela:\n",
        "* o salário antes do reajuste;\n",
        "* o percentual de aumento aplicado;\n",
        "* o valor do aumento;\n",
        "* o novo salário, após o aumento."
      ]
    },
    {
      "cell_type": "code",
      "metadata": {
        "id": "Kl0ainsv0Eif",
        "colab_type": "code",
        "colab": {}
      },
      "source": [
        "salario = float(input(\"Digite o salário do colaborador: \"))\n",
        "\n",
        "if (salario < 800 and salario > 680):\n",
        "    percentual = 15\n",
        "elif (salario < 2500 and salario > 800):\n",
        "    percentual = 10\n",
        "else:\n",
        "    percentual = 5\n",
        "\n",
        "percentual = percentual / 100\n",
        "aumento = percentual * salario\n",
        "novo_salario = salario + aumento\n",
        "\n",
        "print(f\"O salario antes do reajuste é: {salario}\")\n",
        "print(f\"O percentual de aumento é: {percentual}%\")\n",
        "print(f\"O valor do aumento é: {aumento}\")\n",
        "print(f\"O novo salário é após o aumento é: {novo_salario}\")\n"
      ],
      "execution_count": 0,
      "outputs": []
    }
  ],
  "metadata": {
    "colab": {
      "name": "Fase2.ipynb",
      "provenance": []
    },
    "kernelspec": {
      "name": "python3",
      "display_name": "Python 3"
    }
  },
  "nbformat": 4,
  "nbformat_minor": 0
}