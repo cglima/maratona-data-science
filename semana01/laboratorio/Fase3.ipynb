{
  "cells": [
    {
      "cell_type": "markdown",
      "metadata": {
        "id": "CYNAmoj4zSXl",
        "colab_type": "text"
      },
      "source": [
        "Crie um algoritmo em Python que peça uma nota, entre zero e 100. Mostre uma mensagem caso o valor seja inválido e continue pedindo até que o usuário informe um valor válido."
      ]
    },
    {
      "cell_type": "code",
      "metadata": {
        "id": "ViAfpy3GzPN-",
        "colab_type": "code",
        "colab": {}
      },
      "source": [
        "while (True):\n",
        "    try:\n",
        "        nota = float (input(\"Digite uma nota de 0 a 100: \"))\n",
        "\n",
        "        if(nota > 0 and nota < 100):\n",
        "            print(\"O numero digitado é válido\")\n",
        "            break\n",
        "        else:\n",
        "            raise ValueError (\"Ocorreu um erro durante a execução do programa. O numero digitado é inválido. \")\n",
        "    except ValueError as error:\n",
        "        print(error)\n",
        "\n",
        "print(\"fim do programa\")"
      ],
      "execution_count": 2,
      "outputs": [
        {
          "output_type": "stream",
          "name": "stdout",
          "text": "O numero digitado é inválido. \ncould not convert string to float: \nO numero digitado é válido\nfim do programa\n"
        }
      ]
    },
    {
      "cell_type": "markdown",
      "metadata": {
        "id": "gdMis92izSmQ",
        "colab_type": "text"
      },
      "source": [
        "Crie um algoritmo em Python que leia um nome de usuário e a sua senha e não aceite a senha igual ao nome do usuário, mostrando uma mensagem de erro e voltando a pedir as informações.<br>"
      ]
    },
    {
      "cell_type": "code",
      "metadata": {
        "id": "BFpWkdCBz_zh",
        "colab_type": "code",
        "colab": {}
      },
      "source": [
        "while (True):\n",
        "    try:\n",
        "        login = input(\"login: \")\n",
        "        senha = input(\"senha: \")\n",
        "      \n",
        "        if (login == senha):   \n",
        "            raise ValueError(\"A senha deve ser diferente do login\") \n",
        "       \n",
        "    except ValueError as error:\n",
        "        print(error)\n",
        "        senha = input(\"senha: \")\n",
        "            \n",
        "    else:\n",
        "        print(\"Senha válida!\")\n",
        "        break"
      ],
      "execution_count": 12,
      "outputs": [
        {
          "output_type": "stream",
          "name": "stdout",
          "text": "Senha válida!\n"
        }
      ]
    },
    {
      "cell_type": "markdown",
      "metadata": {
        "id": "E_0l_Vx6zSo2",
        "colab_type": "text"
      },
      "source": [
        "Crie um algoritmo em Python que leia e valide as seguintes informações:\n",
        "* Nome: maior que 3 caracteres;\n",
        "* Idade: entre 0 e 150;\n",
        "* Salário: maior que zero;\n",
        "* Sexo: 'f' ou 'm';\n",
        "* Estado Civil: 's', 'c', 'v', 'd';"
      ]
    },
    {
      "cell_type": "code",
      "metadata": {
        "id": "KwJf7XZS0AZW",
        "colab_type": "code",
        "colab": {}
      },
      "source": [
        "def ler_nome():\n",
        "    \"\"\"\n",
        "    função que lê o nome do usuário e valida o nome (nome conter mais de 3 letras)\n",
        "    \"\"\"\n",
        "\n",
        "    nome = None\n",
        "    while (True):\n",
        "        try:\n",
        "\n",
        "            nome = input(\"Informe o nome: \")\n",
        "            if(len(nome) > 3):\n",
        "                break\n",
        "\n",
        "            else:\n",
        "                raise ValueError(\"Nome inválido. \"\n",
        "                \" O nome deve ter mais de três letras!\")\n",
        "        except ValueError as error:\n",
        "            print(\"Ocorreu um erro durante a execução do programa\")\n",
        "            print(error)\n",
        "\n",
        "    return nome \n",
        "\n",
        "def ler_idade():\n",
        "    #função que le a idade do usuario e valida (idade entre 0 e 150 anos)\n",
        "    idade = None\n",
        "    while(True):\n",
        "        try:\n",
        "            idade = int(input(\"Idade: \"))\n",
        "            if(idade < 0):\n",
        "                raise ValueError(\"Idade inválida. A idade deve ser maior que zero\")\n",
        "        \n",
        "            elif (idade > 150):\n",
        "                raise ValueError(\"Idade inválida. A idade deve ser menor que 150\")\n",
        "\n",
        "            else:\n",
        "                break\n",
        "\n",
        "        except ValueError as error:\n",
        "            print(\"Ocorreu um erro durante a execução do programa\")\n",
        "            print(error)\n",
        "\n",
        "    return idade\n",
        "\n",
        "def ler_salario():\n",
        "    #le salario do usupario\n",
        "    salario = None\n",
        "    while (True):\n",
        "        try:\n",
        "            salario = float(input(\"Salario: \"))\n",
        "            if(salario < 0):\n",
        "                raise ValueError(\"Salário invalido. O valor do salário deve ser maior que zero\")\n",
        "            \n",
        "        except ValueError as error:\n",
        "            print(\"Ocorreu um erro durante a execução do programa\")\n",
        "            print(error)\n",
        "        else:\n",
        "            break\n",
        "\n",
        "    return salario\n",
        "\n",
        "def ler_sexo():\n",
        "    #le sexo do usuário\n",
        "    sexo = None\n",
        "    while (True):\n",
        "        try:\n",
        "            sexo = input(\"Sexo ('f' para feminino ou 'm' para masculino): \")\n",
        "            if(sexo != 'f' and sexo != 'm'):\n",
        "                raise ValueError(\"Sexo inválido. Entre com 'f' para indicar sexo feminino e 'm' para indicar masculino\")\n",
        "        \n",
        "        except ValueError as error:\n",
        "            print(\"Ocorreu um erro durante a execução do programa\")\n",
        "            print(error)\n",
        "        else: \n",
        "            break \n",
        "\n",
        "    return sexo\n",
        "\n",
        "def ler_estado_civil():\n",
        "    #ler estado civil\n",
        "    estado_civil = None\n",
        "    while (True):\n",
        "        try:  \n",
        "            estado_civil = input(\"Estado civil (s, c, v, d): \")\n",
        "            if(estado_civil != \"s\" \n",
        "                and estado_civil != \"c\"\n",
        "                and estado_civil != \"v\"\n",
        "                and estado_civil != \"d\"):\n",
        "                raise ValueError(\"Estado civil inválido. Entre com 's' para indicar solteiro, 'c' para indicar casado, 'v' para indicar viuvo e 'd' para indicar divorciado\")\n",
        "        except ValueError as error:\n",
        "            print(\"Ocorreu um erro durante a execução do programa\")\n",
        "            print(error)\n",
        "        else:\n",
        "            break\n",
        "\n",
        "    return estado_civil\n",
        "\n",
        "#ler nome do usuário\n",
        "nome = ler_nome()\n",
        "#ler idade do usuário\n",
        "idade = ler_idade()\n",
        "#ler salario do usuario\n",
        "salario = ler_salario()\n",
        "#ler sexo do usuário\n",
        "sexo = ler_sexo()\n",
        "#ler estado civil do usuário\n",
        "estado_civil = ler_estado_civil()\n",
        "\n",
        "generos =  {\n",
        "    'm':\"masculino\",\n",
        "    'f':\"feminino\",\n",
        "}\n",
        "\n",
        "estados_civis = {\n",
        "    's':\"solteiro\",\n",
        "    'c':\"casado\",\n",
        "    'v':\"viuvo\",\n",
        "    'd':\"divorciado\",\n",
        "}\n",
        "\n",
        "print(f\"\"\"\n",
        "Nome: {nome}\n",
        "Idade: {idade}\n",
        "Salario: R${salario:.2f}\n",
        "Sexo:{generos[sexo]}\n",
        "Estado civil: {estados_civis[estado_civil]} \n",
        "\"\"\")\n"
      ],
      "execution_count": 3,
      "outputs": [
        {
          "output_type": "stream",
          "name": "stdout",
          "text": "Ocorreu um erro durante a execução do programa\ninvalid literal for int() with base 10: ''\nOcorreu um erro durante a execução do programa\nEstado civil inválido. Entre com 's' para indicar solteiro, 'c' para indicar casado, 'v' para indicar viuvo e 'd' para indicar divorciado\n\nNome: goku\nIdade: 50\nSalario: R$1.00\nSexo:masculino\nEstado civil: casado \n\n"
        }
      ]
    },
    {
      "cell_type": "markdown",
      "metadata": {
        "id": "1i4VCiiczSrL",
        "colab_type": "text"
      },
      "source": [
        "Supondo que a população de um país A seja da ordem de 80000 habitantes com uma taxa anual de crescimento de 3% e que a população de B seja 200000 habitantes com uma taxa de crescimento de 1.5%.<br><br> Crie um algoritmo em Python que calcule e escreva o número de anos necessários para que a população do país A ultrapasse ou iguale a população do país B, mantidas as taxas de crescimento."
      ]
    },
    {
      "cell_type": "code",
      "metadata": {
        "id": "yoW67hjA0BHy",
        "colab_type": "code",
        "colab": {}
      },
      "source": [
        "\n",
        "populacao_a = 80000\n",
        "taxa_crescimento_a = 0.03\n",
        "\n",
        "populacao_b = 200000\n",
        "taxa_crescimento_b = 0.015\n",
        "\n",
        "ano = 0 \n",
        "populacao_total_a = populacao_a\n",
        "populacao_total_b = populacao_b\n",
        "\n",
        "#for ano in range(20):\n",
        "while(populacao_total_a <populacao_total_b):   \n",
        "    print(f\"Ano:{ano}\")\n",
        "    print(f\"População total de A:{populacao_total_a}\")\n",
        "    print(f\"População total de B:{populacao_total_b}\")\n",
        "    \n",
        "    populacao_total_a = (populacao_total_a * taxa_crescimento_a) + populacao_total_a\n",
        "    populacao_total_b = (populacao_total_b * taxa_crescimento_b) + populacao_total_b\n",
        "    ano = ano + 1\n",
        "\n",
        "print(f\"A populacao de A ultrapassa a populacao de B no ano {ano}\")\n"
      ],
      "execution_count": 10,
      "outputs": [
        {
          "output_type": "stream",
          "name": "stdout",
          "text": "Ano:0\nPopulação total de A:80000\nPopulação total de B:200000\nAno:1\nPopulação total de A:82400.0\nPopulação total de B:203000.0\nAno:2\nPopulação total de A:84872.0\nPopulação total de B:206045.0\nAno:3\nPopulação total de A:87418.16\nPopulação total de B:209135.675\nAno:4\nPopulação total de A:90040.7048\nPopulação total de B:212272.71012499998\nAno:5\nPopulação total de A:92741.925944\nPopulação total de B:215456.800776875\nAno:6\nPopulação total de A:95524.18372232\nPopulação total de B:218688.65278852812\nAno:7\nPopulação total de A:98389.9092339896\nPopulação total de B:221968.98258035604\nAno:8\nPopulação total de A:101341.60651100929\nPopulação total de B:225298.5173190614\nAno:9\nPopulação total de A:104381.85470633957\nPopulação total de B:228677.9950788473\nAno:10\nPopulação total de A:107513.31034752975\nPopulação total de B:232108.16500503002\nAno:11\nPopulação total de A:110738.70965795565\nPopulação total de B:235589.78748010547\nAno:12\nPopulação total de A:114060.87094769432\nPopulação total de B:239123.63429230705\nAno:13\nPopulação total de A:117482.69707612514\nPopulação total de B:242710.48880669166\nAno:14\nPopulação total de A:121007.17798840889\nPopulação total de B:246351.14613879204\nAno:15\nPopulação total de A:124637.39332806115\nPopulação total de B:250046.4133308739\nAno:16\nPopulação total de A:128376.51512790298\nPopulação total de B:253797.109530837\nAno:17\nPopulação total de A:132227.81058174008\nPopulação total de B:257604.06617379957\nAno:18\nPopulação total de A:136194.6448991923\nPopulação total de B:261468.12716640657\nAno:19\nPopulação total de A:140280.48424616805\nPopulação total de B:265390.1490739027\nAno:20\nPopulação total de A:144488.89877355308\nPopulação total de B:269371.00131001126\nAno:21\nPopulação total de A:148823.5657367597\nPopulação total de B:273411.5663296614\nAno:22\nPopulação total de A:153288.27270886247\nPopulação total de B:277512.73982460634\nAno:23\nPopulação total de A:157886.92089012833\nPopulação total de B:281675.4309219754\nAno:24\nPopulação total de A:162623.5285168322\nPopulação total de B:285900.562385805\nAno:25\nPopulação total de A:167502.23437233715\nPopulação total de B:290189.07082159206\nAno:26\nPopulação total de A:172527.30140350727\nPopulação total de B:294541.90688391594\nAno:27\nPopulação total de A:177703.1204456125\nPopulação total de B:298960.0354871747\nAno:28\nPopulação total de A:183034.21405898087\nPopulação total de B:303444.4360194823\nAno:29\nPopulação total de A:188525.2404807503\nPopulação total de B:307996.10255977453\nAno:30\nPopulação total de A:194180.99769517282\nPopulação total de B:312616.0440981712\nAno:31\nPopulação total de A:200006.427626028\nPopulação total de B:317305.2847596437\nAno:32\nPopulação total de A:206006.6204548088\nPopulação total de B:322064.86403103836\nAno:33\nPopulação total de A:212186.81906845307\nPopulação total de B:326895.83699150395\nAno:34\nPopulação total de A:218552.42364050666\nPopulação total de B:331799.2745463765\nAno:35\nPopulação total de A:225108.99634972186\nPopulação total de B:336776.26366457215\nAno:36\nPopulação total de A:231862.2662402135\nPopulação total de B:341827.90761954075\nAno:37\nPopulação total de A:238818.1342274199\nPopulação total de B:346955.32623383385\nAno:38\nPopulação total de A:245982.67825424252\nPopulação total de B:352159.6561273414\nAno:39\nPopulação total de A:253362.1586018698\nPopulação total de B:357442.0509692515\nAno:40\nPopulação total de A:260963.0233599259\nPopulação total de B:362803.68173379026\nAno:41\nPopulação total de A:268791.9140607237\nPopulação total de B:368245.7369597971\nAno:42\nPopulação total de A:276855.6714825454\nPopulação total de B:373769.42301419406\nAno:43\nPopulação total de A:285161.3416270217\nPopulação total de B:379375.96435940696\nAno:44\nPopulação total de A:293716.1818758324\nPopulação total de B:385066.6038247981\nAno:45\nPopulação total de A:302527.6673321074\nPopulação total de B:390842.60288217006\nAno:46\nPopulação total de A:311603.4973520706\nPopulação total de B:396705.2419254026\nAno:47\nPopulação total de A:320951.6022726327\nPopulação total de B:402655.8205542836\nAno:48\nPopulação total de A:330580.1503408117\nPopulação total de B:408695.6578625979\nAno:49\nPopulação total de A:340497.55485103605\nPopulação total de B:414826.0927305369\nAno:50\nPopulação total de A:350712.48149656714\nPopulação total de B:421048.4841214949\nAno:51\nPopulação total de A:361233.85594146413\nPopulação total de B:427364.21138331736\nAno:52\nPopulação total de A:372070.8716197081\nPopulação total de B:433774.67455406714\nAno:53\nPopulação total de A:383232.9977682993\nPopulação total de B:440281.29467237816\nAno:54\nPopulação total de A:394729.98770134826\nPopulação total de B:446885.5140924638\nAno:55\nPopulação total de A:406571.8873323887\nPopulação total de B:453588.7968038508\nAno:56\nPopulação total de A:418769.0439523604\nPopulação total de B:460392.6287559086\nAno:57\nPopulação total de A:431332.1152709312\nPopulação total de B:467298.5181872472\nAno:58\nPopulação total de A:444272.07872905914\nPopulação total de B:474307.9959600559\nAno:59\nPopulação total de A:457600.24109093094\nPopulação total de B:481422.6158994567\nAno:60\nPopulação total de A:471328.2483236589\nPopulação total de B:488643.95513794856\nAno:61\nPopulação total de A:485468.09577336867\nPopulação total de B:495973.6144650178\nAno:62\nPopulação total de A:500032.13864656974\nPopulação total de B:503413.2186819931\nA populacao de A ultrapassa a populacao de B no ano 63\n"
        }
      ]
    },
    {
      "cell_type": "markdown",
      "metadata": {
        "id": "4ep7kezvzStO",
        "colab_type": "text"
      },
      "source": [
        "Desenvolva um gerador de tabuada, capaz de gerar a tabuada de qualquer número inteiro entre 1 a 10. O usuário deve informar de qual numero ele deseja ver a tabuada. A saída deve ser conforme o exemplo abaixo:\n",
        "Tabuada de 5:<br>\n",
        "5 X 1 = 5<br>\n",
        "5 X 2 = 10<br>\n",
        "...<br>\n",
        "5 X 10 = 50<br>"
      ]
    },
    {
      "cell_type": "code",
      "metadata": {
        "id": "6K6IHWdr0Blt",
        "colab_type": "code",
        "colab": {}
      },
      "source": [
        "numero = int(input(\"Digite um numero para calcular a tabuada (entre 1 e 10): \"))\n",
        "\n",
        "print(f\"Tabuada do numero {numero}: \"\"\\n\")\n",
        "\n",
        "#for i in range(1,11):\n",
        " #   print(numero, \"X\",i, \"=\", numero*i, \"\\n\")\n",
        "\n",
        "lista = range(10)\n",
        "\n",
        "produto = lambda x: print(f\"{numero} x {x + 1} = {numero * (x + 1)}\")\n",
        "\n",
        "produtos = list(map(produto,lista))"
      ],
      "execution_count": 4,
      "outputs": [
        {
          "output_type": "stream",
          "name": "stdout",
          "text": "Tabuada do numero 6: \n\n6 x 1 = 6\n6 x 2 = 12\n6 x 3 = 18\n6 x 4 = 24\n6 x 5 = 30\n6 x 6 = 36\n6 x 7 = 42\n6 x 8 = 48\n6 x 9 = 54\n6 x 10 = 60\n"
        }
      ]
    },
    {
      "cell_type": "markdown",
      "metadata": {
        "id": "u6__NaXqzeYg",
        "colab_type": "text"
      },
      "source": [
        "Crie um algoritmo em Python que leia três números e mostre o maior e o menor deles."
      ]
    },
    {
      "cell_type": "code",
      "metadata": {
        "id": "mm2L7g3x0Cfx",
        "colab_type": "code",
        "colab": {}
      },
      "source": [
        "\n",
        "def numero_maior(lista):\n",
        "    numero_maior = lista[0]\n",
        "    for y in lista:\n",
        "        if(y > numero_maior):\n",
        "            numero_maior = y\n",
        "\n",
        "    return numero_maior\n",
        "\n",
        "def numero_menor(lista):\n",
        "    numero_menor = lista[0]\n",
        "    for y in lista:\n",
        "        if(y < numero_menor):\n",
        "            numero_menor = y\n",
        "\n",
        "    return numero_menor\n",
        "\n",
        "lista = []\n",
        "\n",
        "for x in range(3):\n",
        "    numero = int(input(\"Informe um número: \"))\n",
        "    lista.append(numero)\n",
        "\n",
        "numero_maior_lista = numero_maior(lista)\n",
        "numero_menor_lista = numero_menor(lista)\n",
        " \n",
        "print(f\"O numero maior digitado foi o: {numero_maior_lista} e o numero menor digitado foi o: {numero_menor_lista}\")"
      ],
      "execution_count": 10,
      "outputs": [
        {
          "output_type": "stream",
          "name": "stdout",
          "text": "O numero maior digitado foi o 4525 e o numero menor digitado foi o -2\n"
        }
      ]
    },
    {
      "cell_type": "markdown",
      "metadata": {
        "id": "lIlfG-ATzgOr",
        "colab_type": "text"
      },
      "source": [
        "Crie um algoritmo em Python que peça 2 números, base e expoente, calcule e mostre o primeiro número elevado ao segundo número. Não utilize a função de potência da linguagem."
      ]
    },
    {
      "cell_type": "code",
      "metadata": {
        "id": "-y4pB6br0DD_",
        "colab_type": "code",
        "colab": {}
      },
      "source": [
        "from functools import reduce\n",
        "\n",
        "base = int(input(\"Informe um numero: \"))\n",
        "expoente = int(input(\"Informe outro numero: \"))\n",
        "\n",
        "potenciacao = lambda base,\n",
        "reduce((lambda x,y:x*y), [1,2,3,4,5])\n",
        "\n",
        "\n",
        "resultado = base ** expoente\n",
        "\n",
        "print(f\"O numero {base} elevado ao {expoente} é igual a {resultado}\")"
      ],
      "execution_count": 12,
      "outputs": [
        {
          "output_type": "stream",
          "name": "stdout",
          "text": "O numero 2 elevado ao 2 é igual a 4\n"
        }
      ]
    },
    {
      "cell_type": "markdown",
      "metadata": {
        "id": "Vj4OXsJQziu_",
        "colab_type": "text"
      },
      "source": [
        "Crie um algoritmo em Python que peça 10 números inteiros, calcule e mostre a quantidade de números pares e a quantidade de números impares."
      ]
    },
    {
      "cell_type": "code",
      "metadata": {
        "id": "RmApGpg30D00",
        "colab_type": "code",
        "colab": {}
      },
      "source": [
        "lista = [] \n",
        "lista_par = []\n",
        "lista_impar = []\n",
        "\n",
        "for x in range(10):\n",
        "    numero = int(input(\"Informe um numero: \"))\n",
        "    lista.append(numero)\n",
        "\n",
        "    resto = numero % 2\n",
        "    for resto in lista:\n",
        "        if(resto == 0):\n",
        "            lista_par.append(resto)\n",
        "        else:\n",
        "            lista_impar.append(resto)\n",
        "    \n",
        "    qtdade_par = len.lista_par\n",
        "    qtdade_impar = len.lista_impar\n",
        "\n",
        "    print(f\"A quantidade de numeros pares é {qtdade_par} e a quantidade de numeros ímpar é {qtdade_impar}\")"
      ],
      "execution_count": 0,
      "outputs": []
    },
    {
      "cell_type": "markdown",
      "metadata": {
        "id": "e7id8Ewgzlow",
        "colab_type": "text"
      },
      "source": [
        "Um funcionário de uma empresa recebe aumento salarial anualmente: Sabe-se que:\n",
        "Esse funcionário foi contratado em 1995, com salário inicial de R$ 1.000,00;\n",
        "Em 1996 recebeu aumento de 1,5% sobre seu salário inicial;\n",
        "A partir de 1997 (inclusive), os aumentos salariais sempre correspondem ao dobro do percentual do ano anterior. Crie um algoritmo em Python que determine o salário atual desse funcionário. Após concluir isto, altere o programa permitindo que o usuário digite o salário inicial do funcionário."
      ]
    },
    {
      "cell_type": "code",
      "metadata": {
        "id": "Kl0ainsv0Eif",
        "colab_type": "code",
        "colab": {}
      },
      "source": [
        "salario_inicial = 1000\n",
        "percentual = 0.015 \n",
        "\n",
        "ano_inicial = 1995\n",
        "ano_atual = 1996\n",
        "fator_de_aumento = ano_atual - ano_inicial \n",
        "print(fator_de_aumento)\n",
        "\n",
        "lista_ano = range(fator_de_aumento)\n",
        "\n",
        "salario = salario_inicial\n",
        "\n",
        "for i in lista_ano:\n",
        "    salario = salario + (salario * percentual * (2 ** i))\n",
        "\n",
        "print(f\"Novo salario: {salario}\")\n",
        "\n"
      ],
      "execution_count": 28,
      "outputs": [
        {
          "output_type": "stream",
          "name": "stdout",
          "text": "1\nNovo salario: 1015.0\n"
        }
      ]
    },
    {
      "cell_type": "markdown",
      "metadata": {
        "id": "5u9i4kzm-itX",
        "colab_type": "text"
      },
      "source": [
        "Crie um algoritmo em Python com uma função que necessite de um argumento. A função retorna o valor de caractere ‘P’, se seu argumento for positivo, e ‘N’, se seu argumento for zero ou negativo."
      ]
    },
    {
      "cell_type": "code",
      "metadata": {
        "id": "WNt8CLa2-rGt",
        "colab_type": "code",
        "colab": {}
      },
      "source": [
        "numero = int (input(\"Informe um numero\"))\n",
        "print((lambda x: 'P' if x > 0 else 'N')(numero))"
      ],
      "execution_count": 4,
      "outputs": [
        {
          "output_type": "stream",
          "name": "stdout",
          "text": "P\n"
        }
      ]
    },
    {
      "cell_type": "markdown",
      "metadata": {
        "id": "CHiYMSOJ-rSY",
        "colab_type": "text"
      },
      "source": [
        "Construa uma função que receba uma data no formato DD/MM/AAAA e devolva uma string no formato D de mesPorExtenso de AAAA. Opcionalmente, valide a data e retorne NULL caso a data seja inválida."
      ]
    },
    {
      "cell_type": "code",
      "metadata": {
        "id": "6Ukxx6gQ-r4-",
        "colab_type": "code",
        "colab": {}
      },
      "source": [
        "\n",
        "\n",
        "\n"
      ],
      "execution_count": 28,
      "outputs": [
        {
          "output_type": "stream",
          "name": "stdout",
          "text": "2\n"
        }
      ]
    },
    {
      "cell_type": "markdown",
      "metadata": {
        "id": "AzUYbZ8A-zj7",
        "colab_type": "text"
      },
      "source": [
        "Crie uma classe que modele uma pessoa:<br>\n",
        "\n",
        "Atributos: nome, idade, peso e altura<br>\n",
        "Métodos: Envelhercer, engordar, emagrecer, crescer.<br>\n",
        "<br>Obs: Por padrão, a cada ano que nossa pessoa envelhece, sendo a idade dela menor que 21 anos, ela deve crescer 0,5 cm."
      ]
    },
    {
      "cell_type": "code",
      "metadata": {
        "id": "qobhV-FC-zRS",
        "colab_type": "code",
        "colab": {}
      },
      "source": [
        "# INSIRA SEU CÓDIGO AQUI"
      ],
      "execution_count": 0,
      "outputs": []
    }
  ],
  "metadata": {
    "colab": {
      "name": "Fase3.ipynb",
      "provenance": []
    },
    "kernelspec": {
      "name": "python3",
      "display_name": "Python 3"
    }
  },
  "nbformat": 4,
  "nbformat_minor": 0
}