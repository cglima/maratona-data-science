{
  "cells": [
    {
      "cell_type": "markdown",
      "metadata": {},
      "source": [
        "Fase 1\n",
        "\n",
        "Nesta fase, utilize print(), input() e operadores aritméticos apenas.\n",
        "\n",
        " \n",
        "\n",
        "1. Acesse https://colab.research.google.com/\n",
        "\n",
        "2. Clique em \"File\", e em seguida: \"Upload notebook\".\n",
        "\n",
        "3. Selecione o arquivo \"Fase1.jpynb\"(download dele logo abaixo) e realize os desafios propostos.\n",
        "\n",
        " \n",
        "\n",
        "Realize a tarefa e armazene o .jpynb em seu Google Colab para posterior inserção em seu portfólio Github."
      ]
    },
    {
      "cell_type": "code",
      "execution_count": null,
      "metadata": {
        "colab_type": "text",
        "id": "CYNAmoj4zSXl"
      },
      "outputs": [],
      "source": [
        "Crie um algoritmo em Python que mostre a mensagem \"Alo mundo\" na tela."
      ]
    },
    {
      "cell_type": "code",
      "metadata": {
        "id": "ViAfpy3GzPN-",
        "colab_type": "code",
        "colab": {}
      },
      "source": [
        "print(\"Alô mundo\")"
      ],
      "execution_count": null,
      "outputs": []
    },
    {
      "cell_type": "markdown",
      "metadata": {
        "id": "gdMis92izSmQ",
        "colab_type": "text"
      },
      "source": [
        "Crie um algoritmo em Python que peça dois números e imprima a soma."
      ]
    },
    {
      "cell_type": "code",
      "metadata": {
        "id": "BFpWkdCBz_zh",
        "colab_type": "code",
        "colab": {}
      },
      "source": [
        "numero1 = int(input(\"Digite um número: \"))\n",
        "numero2 = int(input(\"Digite outro número: \"))\n",
        "soma = numero1 + numero2\n",
        "print(\"soma =\",soma)"
      ],
      "execution_count": null,
      "outputs": []
    },
    {
      "cell_type": "markdown",
      "metadata": {
        "id": "E_0l_Vx6zSo2",
        "colab_type": "text"
      },
      "source": [
        "Crie um algoritmo em Python que peça um número e então mostre a mensagem O número informado foi [número]."
      ]
    },
    {
      "cell_type": "code",
      "metadata": {
        "id": "KwJf7XZS0AZW",
        "colab_type": "code",
        "colab": {}
      },
      "source": [
        "numero = int(input(\"Digite um número: \"))\n",
        "print(\"O número informado foi\", numero)\n"
      ],
      "execution_count": null,
      "outputs": []
    },
    {
      "cell_type": "markdown",
      "metadata": {
        "id": "1i4VCiiczSrL",
        "colab_type": "text"
      },
      "source": [
        "Crie um algoritmo em Python que converta metros para centímetros."
      ]
    },
    {
      "cell_type": "code",
      "metadata": {
        "id": "yoW67hjA0BHy",
        "colab_type": "code",
        "colab": {}
      },
      "source": [
        "numero = int(input(\"Digite um número para conversão em centímetros: \"))\n",
        "conversao = numero * 100\n",
        "print(f\"{numero} metros é igual a {conversao} centímetros\")"
      ],
      "execution_count": null,
      "outputs": []
    },
    {
      "cell_type": "markdown",
      "metadata": {
        "id": "4ep7kezvzStO",
        "colab_type": "text"
      },
      "source": [
        "Crie um algoritmo em Python que peça as 4 notas bimestrais e mostre a média."
      ]
    },
    {
      "cell_type": "code",
      "metadata": {
        "id": "6K6IHWdr0Blt",
        "colab_type": "code",
        "colab": {}
      },
      "source": [
        "#TODO SUBSTITUIR O TIPO INT PARA O TIPO FLOAT\n",
        "nota1 = int(input(\"Digite a primeira nota do bimestre: \"))\n",
        "nota2 = int(input(\"Digite a segunda nota do bimestre: \"))\n",
        "nota3 = int(input(\"Digite a terceira nota do bimestre: \"))\n",
        "nota4 = int(input(\"Digite a quarta nota do bimestre: \"))\n",
        "media = (nota1 + nota2 + nota3 + nota4) / 4 \n",
        "print(f\"A média das notas do bimestre é: {media:.2f}\")"
      ],
      "execution_count": 4,
      "outputs": [
        {
          "output_type": "stream",
          "name": "stdout",
          "text": "A média das notas do bimestre é: 6.50\n"
        }
      ]
    },
    {
      "cell_type": "markdown",
      "metadata": {
        "id": "u6__NaXqzeYg",
        "colab_type": "text"
      },
      "source": [
        "Crie um algoritmo em Python que peça o raio de um círculo, calcule e mostre sua área."
      ]
    },
    {
      "cell_type": "code",
      "metadata": {
        "id": "mm2L7g3x0Cfx",
        "colab_type": "code",
        "colab": {}
      },
      "source": [
        "raio = int(input(\"Informe o valor do raio de um círculo: \"))\n",
        "pi = 3.14\n",
        "area_circulo = (pi * (raio ** 2))\n",
        "print(f\"A área do circulo é igual a {area_circulo}\") "
      ],
      "execution_count": 6,
      "outputs": [
        {
          "output_type": "stream",
          "name": "stdout",
          "text": "A área do circulo é igual a 200.96\n"
        }
      ]
    },
    {
      "cell_type": "markdown",
      "metadata": {
        "id": "lIlfG-ATzgOr",
        "colab_type": "text"
      },
      "source": [
        "Crie um algoritmo em Python que calcule a área de um quadrado, em seguida mostre o dobro desta área para o usuário."
      ]
    },
    {
      "cell_type": "code",
      "metadata": {
        "id": "-y4pB6br0DD_",
        "colab_type": "code",
        "colab": {}
      },
      "source": [
        "lado = int(input(\"Informe o lado do quadrado: \"))\n",
        "area_quadrado = lado ** 2\n",
        "dobro_area = 2 * area_quadrado\n",
        "print(f\"O dobro da área do quadrado é igual a {dobro_area:.2f}\")\n"
      ],
      "execution_count": 8,
      "outputs": [
        {
          "output_type": "stream",
          "name": "stdout",
          "text": "O dobro da área do quadrado é igual a 2\n"
        }
      ]
    },
    {
      "cell_type": "markdown",
      "metadata": {
        "id": "Vj4OXsJQziu_",
        "colab_type": "text"
      },
      "source": [
        "Crie um algoritmo em Python que pergunte quanto você ganha por hora e o número de horas trabalhadas no mês. Calcule e mostre o total do seu salário no referido mês.\n"
      ]
    },
    {
      "cell_type": "code",
      "metadata": {
        "id": "RmApGpg30D00",
        "colab_type": "code",
        "colab": {}
      },
      "source": [
        "valor_hora = float(input(\"Informe o valor da sua hora trabalhada: \"))\n",
        "horas_trabalhadas = float(input(\"Informe quantas horas você trabalhou esse mÊs? \"))\n",
        "salario = valor_hora * horas_trabalhadas\n",
        "print(f\"O salário no referido mês é: R${salario:.2f}\")"
      ],
      "execution_count": 11,
      "outputs": [
        {
          "output_type": "stream",
          "name": "stdout",
          "text": "O salário no referido mês é 8800.00\n"
        }
      ]
    },
    {
      "cell_type": "markdown",
      "metadata": {
        "id": "e7id8Ewgzlow",
        "colab_type": "text"
      },
      "source": [
        "Crie um algoritmo em Python que peça a temperatura em graus Farenheit, transforme e mostre a temperatura em graus Celsius.\n",
        "C = (5 * (F-32) / 9)."
      ]
    },
    {
      "cell_type": "code",
      "metadata": {
        "id": "Kl0ainsv0Eif",
        "colab_type": "code",
        "colab": {}
      },
      "source": [
        "temperatura_farenheit = float(input(\"Informe a temperatura em graus Farenheit\"))\n",
        "temperatura_celsius = ( 5 * (temperatura_farenheit - 32) / 9)\n",
        "print(f\"{temperatura_farenheit:.2f} graus Farenheit equivale a {temperatura_celsius:.2f} graus Celsius\")"
      ],
      "execution_count": 12,
      "outputs": [
        {
          "output_type": "stream",
          "name": "stdout",
          "text": "14.00 graus Farenheit equivale a -10.00 em graus Celsius\n"
        }
      ]
    },
    {
      "cell_type": "markdown",
      "metadata": {
        "id": "mFCgXRPaznno",
        "colab_type": "text"
      },
      "source": [
        "Crie um algoritmo em Python que peça a temperatura em graus Celsius, transforme e mostre em graus Farenheit."
      ]
    },
    {
      "cell_type": "code",
      "metadata": {
        "id": "xEAAHRi00FS8",
        "colab_type": "code",
        "colab": {}
      },
      "source": [
        "temperatura_celsius = float(input(\"Informe a temperatura em graus Celsius\"))\n",
        "temperatura_farenheit = 1.8 * temperatura_celsius + 32\n",
        "print(f\"{temperatura_celsius:.2f} graus Celsius equivale a {temperatura_farenheit:.2f} graus Farenheit\")"
      ],
      "execution_count": null,
      "outputs": []
    },
    {
      "cell_type": "markdown",
      "metadata": {
        "id": "j3fdhu-8zqu9",
        "colab_type": "text"
      },
      "source": [
        "Crie um algoritmo em Python que peça 2 números inteiros e um número real. Calcule e mostre:\n",
        "* a soma do dobro do primeiro com metade do segundo .\n",
        "* a soma do triplo do primeiro com o terceiro.\n",
        "* o terceiro elevado ao cubo."
      ]
    },
    {
      "cell_type": "code",
      "metadata": {
        "id": "ZEqZrKjt0F5B",
        "colab_type": "code",
        "colab": {}
      },
      "source": [
        "import math\n",
        "\n",
        "numero1 = int(input(\"Informe um número inteiro: \"))\n",
        "numero2 = int(input(\"Informe outro número inteiro: \"))\n",
        "numero3 = float(input(\"Informe um número real: \"))\n",
        "\n",
        "primeiro = (2 * numero1) + (numero2/ 2)\n",
        "segundo = (numero1 + numero1 + numero1) + numero3\n",
        "terceiro = math.pow(numero3, 3)\n",
        "\n",
        "print(f\"A soma do dobro do primeiro com metado do segundo é {primeiro:.2f}\")\n",
        "print(f\"A soma do triplo do primeiro com o terceiro é {segundo:.2f}\")\n",
        "print(f\"O terceiro elevado ao cubo é {terceiro:.2f}\")\n",
        "\n",
        "\n"
      ],
      "execution_count": null,
      "outputs": []
    }
  ],
  "metadata": {
    "colab": {
      "name": "Fase1.ipynb",
      "provenance": []
    },
    "kernelspec": {
      "name": "python3",
      "display_name": "Python 3"
    }
  },
  "nbformat": 4,
  "nbformat_minor": 0
}